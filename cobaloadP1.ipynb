{
  "nbformat": 4,
  "nbformat_minor": 0,
  "metadata": {
    "colab": {
      "provenance": [],
      "authorship_tag": "ABX9TyMqiEvEeWG7DtGBwuJCuSE+",
      "include_colab_link": true
    },
    "kernelspec": {
      "name": "python3",
      "display_name": "Python 3"
    },
    "language_info": {
      "name": "python"
    }
  },
  "cells": [
    {
      "cell_type": "markdown",
      "metadata": {
        "id": "view-in-github",
        "colab_type": "text"
      },
      "source": [
        "<a href=\"https://colab.research.google.com/github/tirtapir/MBTI-Classifier-Model/blob/main/cobaloadP1.ipynb\" target=\"_parent\"><img src=\"https://colab.research.google.com/assets/colab-badge.svg\" alt=\"Open In Colab\"/></a>"
      ]
    },
    {
      "cell_type": "code",
      "execution_count": 3,
      "metadata": {
        "colab": {
          "base_uri": "https://localhost:8080/"
        },
        "id": "OaB7yhYqQnP8",
        "outputId": "ea24c45d-a275-42a8-faab-d221ee8b1d1d"
      },
      "outputs": [
        {
          "output_type": "stream",
          "name": "stdout",
          "text": [
            "memastikan informasi benar adanya atau tidak dan brusaha untuk menyaring informasi yang ada\n",
            "The result is :  N\n"
          ]
        }
      ],
      "source": [
        "import joblib\n",
        "from sklearn.model_selection import train_test_split\n",
        "from sklearn.linear_model import LogisticRegression\n",
        "from imblearn.under_sampling import RandomUnderSampler\n",
        "import sklearn\n",
        "from sklearn.feature_extraction.text import CountVectorizer\n",
        "from sklearn.feature_extraction.text import TfidfVectorizer\n",
        "from sklearn.feature_extraction.text import TfidfTransformer\n",
        "import numpy as np\n",
        "\n",
        "X = joblib.load('X_P1.sav')\n",
        "y = joblib.load('y_P1.sav')\n",
        "\n",
        "cntizer = CountVectorizer(analyzer=\"word\",max_features=1000, min_df = 0.01)\n",
        "X_cnt = cntizer.fit_transform(X)\n",
        "\n",
        "tfizer = TfidfTransformer()\n",
        "X_tfidf =  tfizer.fit_transform(X_cnt).toarray()\n",
        "X = X_tfidf\n",
        "\n",
        "'''\n",
        "Dataset Baru\n",
        "'''\n",
        "# user_input = \"mendengar dan memahami\" #S\n",
        "# user_input = \"memahami apa yang dibicarakan \" #S\n",
        "# user_input = \"Berusaha mengerti apa yg disampaikan dan memahami maksud dr informasi yg diberikan\" #N\n",
        "# user_input = \"jika informasi tsb mnurut saya pnting, maka sy akan bahagia mendengarnya\" #S\n",
        "user_input = \"memastikan informasi benar adanya atau tidak dan brusaha untuk menyaring informasi yang ada\" #N\n",
        "\n",
        "my_X_cnt = cntizer.transform(np.array([user_input]))\n",
        "\n",
        "my_X_tfidf =  tfizer.transform(my_X_cnt).toarray()\n",
        "\n",
        "result = []\n",
        "model = joblib.load('clf_P1.sav')\n",
        "y_pred = model.predict(my_X_tfidf)\n",
        "result.append(y_pred[0])\n",
        "\n",
        "if result == [0] :\n",
        "  result_output = 'N'\n",
        "else :\n",
        "  result_output = 'S'\n",
        "\n",
        "print(user_input)\n",
        "print(\"The result is : \", result_output)\n",
        "\n",
        "\n",
        "\n"
      ]
    }
  ]
}